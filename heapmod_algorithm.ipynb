{
 "cells": [
  {
   "cell_type": "markdown",
   "metadata": {},
   "source": [
    "# Heapmod Algorithm For Computing The Minimum Free Distance Of Convolutional Codes\n",
    "### by Eng. O. David and Dr. V. Lyandres"
   ]
  },
  {
   "cell_type": "code",
   "execution_count": 1,
   "metadata": {},
   "outputs": [],
   "source": [
    "def hamming_weight(matrix):\n",
    "    weight = 0\n",
    "    for i in range(matrix.nrows()):\n",
    "        for j in range(matrix.ncols()):\n",
    "            weight += int(matrix[i, j])\n",
    "    return weight\n",
    "\n",
    "def dec_to_bin(number, length):\n",
    "    # computes the binary representation of a decimal number in the way we need it\n",
    "    # for the registers\n",
    "    str_list = list(bin(number))[2:]\n",
    "    bin_list = [0 for _ in range(length-len(str_list))] + [int(s) for s in str_list]\n",
    "    bin_list.reverse()\n",
    "    return matrix(1, length, bin_list)\n",
    "\n",
    "def calculate_sequence(l_j, memory_length):\n",
    "    # calculates the dividing by 2 and floor sequence for the l_j.\n",
    "    # i.e. calculates the heap path\n",
    "    a = l_j\n",
    "    sequence = [a%(2^memory_length)]\n",
    "    while a != 1:\n",
    "        a = a // 2\n",
    "        sequence.append(a%(2^memory_length))\n",
    "    return sequence\n",
    "\n",
    "def weight_of_sequence(sequence, weights):\n",
    "    # adds the weights of the nodes of the sequence.\n",
    "    weight = 0\n",
    "    for i in range(len(sequence)):\n",
    "        weight += weights[sequence[i]]\n",
    "    return weight\n",
    "    \n",
    "def coefficients_up_to_deg(f, n):\n",
    "    # returns the coefficients of a polynomial f up to the coefficient of degree n.\n",
    "    coeff_list = f.coefficients(sparse=False)\n",
    "    coeff_list = coeff_list + [0 for _ in range(n - len(coeff_list))]\n",
    "    return matrix(GF(2), n, 1, coeff_list)\n",
    "\n",
    "def heapmod(generator_matrix):\n",
    "    polynomials = generator_matrix[0]\n",
    "    n = len(polynomials)\n",
    "    memory_length = max([polynomial.degree() for polynomial in polynomials]) + 1\n",
    "    # make generator polynomial matrix into the g_i\n",
    "    g_i_list = [coefficients_up_to_deg(f, memory_length) for f in polynomials]\n",
    "    # generate the matrix to get the outputs for each node.\n",
    "    G_M_n = block_matrix(1, n, g_i_list, subdivide=False)\n",
    "    registers = [dec_to_bin(i, memory_length) for i in range(2^memory_length)]\n",
    "    outputs = [registers[i] * G_M_n for i in range(2^memory_length)]\n",
    "    weights = [hamming_weight(outputs[i]) for i in range(2^memory_length)]\n",
    "    \n",
    "    L_j = [(2*j + 1) * 2^(memory_length-1) for j in range(2^memory_length)]\n",
    "    sequences = [calculate_sequence(l_j, memory_length) for l_j in L_j]\n",
    "    \n",
    "    # calculate the weight/distance for each path corresponding to the l_j's.\n",
    "    weights = [weight_of_sequence(sequences[i], weights) for i in range(len(sequences))]\n",
    "    return min(weights)"
   ]
  },
  {
   "cell_type": "code",
   "execution_count": 3,
   "metadata": {},
   "outputs": [
    {
     "name": "stdout",
     "output_type": "stream",
     "text": [
      "9\n"
     ]
    }
   ],
   "source": [
    "# counterexample for the heapmod.\n",
    "R.<x> = PolynomialRing(GF(2), 'x')\n",
    "generator_matrix = matrix(R, [[x^6 + x^4 + 1, x^6 + x^5 + x^4 + x^3 + x + 1]])\n",
    "print(heapmod(generator_matrix))"
   ]
  },
  {
   "cell_type": "code",
   "execution_count": null,
   "metadata": {},
   "outputs": [],
   "source": []
  }
 ],
 "metadata": {
  "kernelspec": {
   "display_name": "SageMath 9.4",
   "language": "sage",
   "name": "sagemath"
  },
  "language_info": {
   "codemirror_mode": {
    "name": "ipython",
    "version": 3
   },
   "file_extension": ".py",
   "mimetype": "text/x-python",
   "name": "python",
   "nbconvert_exporter": "python",
   "pygments_lexer": "ipython3",
   "version": "3.9.5"
  }
 },
 "nbformat": 4,
 "nbformat_minor": 4
}
